{
 "cells": [
  {
   "cell_type": "markdown",
   "metadata": {},
   "source": [
    "# [3]() Applications <a class='iab-edit' href='https://github.com/gregcaporaso/An-Introduction-to-Applied-Bioinformatics/edit/master/book/applications/index.md#L1' target='_blank'>[edit]</a>"
   ]
  },
  {
   "cell_type": "markdown",
   "metadata": {},
   "source": [
    "**Table of Contents**\n",
    "0. [Studying Biological Diversity](1.ipynb)\n",
    "    0. [Getting started: the sample by observation count/frequency table](1.ipynb#1)\n",
    "    0. [Terminology](1.ipynb#2)\n",
    "    0. [Measuring alpha diversity](1.ipynb#3)\n",
    "        0. [Observed species (or Observed OTUs)](1.ipynb#3.1)\n",
    "            0. [A limitation of OTU counting](1.ipynb#3.1.1)\n",
    "        0. [Phylogenetic Diversity (PD)](1.ipynb#3.2)\n",
    "        0. [Even sampling](1.ipynb#3.3)\n",
    "    0. [Measuring beta diversity](1.ipynb#4)\n",
    "        0. [Distance metrics](1.ipynb#4.1)\n",
    "            0. [Bray-Curtis](1.ipynb#4.1.1)\n",
    "            0. [Unweighted UniFrac](1.ipynb#4.1.2)\n",
    "            0. [Even sampling](1.ipynb#4.1.3)\n",
    "        0. [Interpreting distance matrices](1.ipynb#4.2)\n",
    "            0. [Distribution plots and comparisons](1.ipynb#4.2.1)\n",
    "            0. [Heirarchical clustering](1.ipynb#4.2.2)\n",
    "        0. [Ordination](1.ipynb#4.3)\n",
    "            0. [Polar ordination](1.ipynb#4.3.1)\n",
    "            0. [Determining the most important axes in polar ordination](1.ipynb#4.3.2)\n",
    "            0. [Interpreting ordination plots](1.ipynb#4.3.3)\n",
    "    0. [Tools for using ordination in practice: scikit-bio, pandas, and matplotlib](1.ipynb#5)\n",
    "    0. [PCoA versus PCA: what's the difference?](1.ipynb#6)\n",
    "    0. [Are two different analysis approaches giving me the same result?](1.ipynb#7)\n",
    "        0. [Procrustes analysis](1.ipynb#7.1)\n",
    "    0. [Where to go from here](1.ipynb#8)\n",
    "    0. [Acknowledgements](1.ipynb#9)"
   ]
  }
 ],
 "metadata": {},
 "nbformat": 4,
 "nbformat_minor": 0
}
