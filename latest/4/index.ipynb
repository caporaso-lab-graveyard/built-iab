{
 "cells": [
  {
   "cell_type": "markdown",
   "metadata": {},
   "source": [
    "# [4]() Exercises <a class='iab-edit' href='https://github.com/gregcaporaso/An-Introduction-to-Applied-Bioinformatics/edit/master/book/exercises/index.md#L1' target='_blank'>[edit]</a>"
   ]
  },
  {
   "cell_type": "markdown",
   "metadata": {},
   "source": [
    "**Table of Contents**\n",
    "0. [Local sequence alignment exercises](1.ipynb)\n",
    "    0. [Purpose](1.ipynb#1)\n",
    "    0. [Background](1.ipynb#2)\n",
    "    0. [Goals](1.ipynb#3)\n",
    "    0. [Hints](1.ipynb#4)\n",
    "    0. [Getting started](1.ipynb#5)\n",
    "    0. [Question 1](1.ipynb#6)\n",
    "    0. [Question 2](1.ipynb#7)\n",
    "    0. [Question 3](1.ipynb#8)\n",
    "    0. [Question 4](1.ipynb#9)\n",
    "    0. [More hints](1.ipynb#10)\n",
    "0. [Multiple sequence alignment exercises](2.ipynb)\n",
    "    0. [Purpose](2.ipynb#1)\n",
    "    0. [Goals](2.ipynb#2)\n",
    "    0. [Hints](2.ipynb#3)\n",
    "    0. [Functions that you will need to complete the exercise.](2.ipynb#4)\n",
    "    0. [Question 1](2.ipynb#5)\n",
    "    0. [Question 2](2.ipynb#6)\n",
    "    0. [Question 3](2.ipynb#7)\n",
    "    0. [Question 4](2.ipynb#8)\n",
    "    0. [Question 5](2.ipynb#9)\n",
    "    0. [Question 6](2.ipynb#10)\n",
    "    0. [Question 7](2.ipynb#11)"
   ]
  },
  {
   "cell_type": "markdown",
   "metadata": {},
   "source": [
    "\n",
    "This section contains exercises corresponding to different chapters. In the future these will be structured to link specifically to and from the relevant chapters."
   ]
  }
 ],
 "metadata": {},
 "nbformat": 4,
 "nbformat_minor": 0
}
