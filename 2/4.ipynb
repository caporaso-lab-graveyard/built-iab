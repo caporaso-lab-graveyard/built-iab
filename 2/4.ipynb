{
 "cells": [
  {
   "cell_type": "markdown",
   "metadata": {},
   "source": [
    "# [2.4]() Phylogenetic reconstruction <a class='iab-edit' href='https://github.com/gregcaporaso/An-Introduction-to-Applied-Bioinformatics/edit/master/book/fundamentals/phylogeny-reconstruction.md#L2' target='_blank'>[edit]</a>"
   ]
  },
  {
   "cell_type": "markdown",
   "metadata": {},
   "source": [
    "**Table of Contents**\n",
    "0. [Why build phylogenies?](#1)\n",
    "0. [How phylogenies are reconstructed](#2)\n",
    "0. [Simulating evolution](#3)\n",
    "0. [Some terminology](#4)\n",
    "0. [Distances and distance matrices](#5)\n",
    "0. [Computing the distance between pairs of sequences.](#6)\n",
    "0. [Hierarchical clustering with UPGMA](#7)\n",
    "0. [Acknowledgements](#8)"
   ]
  },
  {
   "cell_type": "markdown",
   "metadata": {},
   "source": [
    "\n",
    "In this chapter we'll begin to explore the goals, approaches, and challenges for creating phylogenetic trees, or phylogenies. Phylogenies, such as the two presented in Figure 1, represent hypotheses about the evolutionary history of a group of individuals, who are represented by the *tips* in the tree. You can explore an interactive version of the three-domain tree presented in Figure 1b online, through the [Interactive Tree of Life project](http://itol.embl.de/itol.cgi#)."
   ]
  },
  {
   "cell_type": "markdown",
   "metadata": {},
   "source": [
    "** Figure 1: Add (a) the Darwin OoS tree and (b) the Pace three domain tree. **"
   ]
  },
  {
   "cell_type": "markdown",
   "metadata": {},
   "source": [
    "## [2.4.1](#1) Why build phylogenies?<a name='1'></a> <a class='iab-edit' href='https://github.com/gregcaporaso/An-Introduction-to-Applied-Bioinformatics/edit/master/book/fundamentals/phylogeny-reconstruction.md#L8' target='_blank'>[edit]</a>"
   ]
  },
  {
   "cell_type": "markdown",
   "metadata": {},
   "source": [
    "\n",
    "Reconstructing the phylogeny of a group of individuals is useful for many reasons. Probably the most obvious of these is understanding the evolutionary relationship between a group of organisms. For example, over the past half-century we've gained great insight into the evolution of our species, *Homo sapiens*, by studying features of our closest relatives, both extant (still existing) organisms, such as the *Pan* (chimpanzees) and *Gorilla* genera, and extinct (no longer living) species, including *Homo neanderthalensis*, *Homo erectus*, *Homo habilus*, and many species in the *Australopithecus* genus. (The [Smithsonian Museum's Human Origins Initiative](http://humanorigins.si.edu/) is an excellent resource for learning more about the fascinating subject of human evolution.) Phylogenetic trees such as these are also useful for understanding evolution itself. In fact, they're so useful that the single image that Charles Darwin found important enough to include in *On the Origin of Species* was the phylogenetic tree presented in Figure 1a."
   ]
  },
  {
   "cell_type": "markdown",
   "metadata": {},
   "source": [
    "The *individuals* represented at the tips of our trees don't necessarily have to be organisms though. In another important application of phylogenetic trees, we can study the evolution of genes, which can help us gain a deeper understanding of gene function. Specifically, we can learn about families of related genes. A classic example of this is the globin family, which includes the proteins hemoglobin and myoglobin, molecules that can reversibly bind oxygen (meaning they can bind to it, and then let go of it). You've probably heard of hemoglobin (if not globins in general), as this molecule binds to oxygen where it is present in high concentration (such as in your lung) and releases it where it is present in low concentration (such as in the bicep, where it is ultimately used to power your arm). Hemoglobin and myoglobin are paralogs, meaning that they are related by a gene duplication and subsequent divergence. If you were to compare an unknown globin sequence to either of these you could detect homology, but a tree such as the one present in Figure 2, would help you understand the type of homologous relationship (i.e., whether it was orthology or paralogy)."
   ]
  },
  {
   "cell_type": "markdown",
   "metadata": {},
   "source": [
    "** Figure 2: Add a globin tree with organism and gene names. **"
   ]
  },
  {
   "cell_type": "markdown",
   "metadata": {},
   "source": [
    "Phylogenetic trees are used for many other diverse applications in bioinformatics, so it's therefore important that a bioinformatican have an understanding of they are built and how they should be interpreted. An additional application that we'll cover in this text is comparing the composition of communities of organisms, but we'll come back to that [later](../3/1.ipynb)."
   ]
  },
  {
   "cell_type": "markdown",
   "metadata": {},
   "source": [
    "## [2.4.2](#2) How phylogenies are reconstructed<a name='2'></a> <a class='iab-edit' href='https://github.com/gregcaporaso/An-Introduction-to-Applied-Bioinformatics/edit/master/book/fundamentals/phylogeny-reconstruction.md#L18' target='_blank'>[edit]</a>"
   ]
  },
  {
   "cell_type": "markdown",
   "metadata": {},
   "source": [
    "\n",
    "Phylogenies are reconstructed using a variety of different algorithms, some of which we'll cover in this chapter. These algorithms all work by comparing a set of *features* of organisms, and inferring the evolutionary distance between those organisms based on the similarity of their features. The features that are compared can be nearly anything that is observable, either from extant organisms or fossilized representatives of extinct organisms."
   ]
  },
  {
   "cell_type": "markdown",
   "metadata": {},
   "source": [
    "As an example, let's consider the reconstruction of the phylogeny of spiders (the order Araneae), a hypothesis of which is presented in Figure 3. Of the extant spiders, some are orb-weavers (meaning they spin circular, sticky webs), and others are not. Entomologists have debated whether orb-weaving is a monophyletic trait (meaning that it evolved one time), or whether it is polyphyletic (meaning that it evolved multiple times, such as flight, which has evolved independently in birds, flying dinosaurs, insects, and mammals). If orb-weaving is monophyletic, it would mean that over the course of evolution, extant spiders which don't weave orb webs have lost that ability. Some researchers doubt as it's a very effective means of catching prey, and losing that ability would likely constitute an evolutionary disadvantage. If orb-weaving is polyphyletic, it would means that in at least two different spider lineages, this trait arose independently, which other researchers consider to be very unlikely due to the complexity of engineering these webs."
   ]
  },
  {
   "cell_type": "markdown",
   "metadata": {},
   "source": [
    "<figure>\n",
    "    <img src=\"https://raw.githubusercontent.com/gregcaporaso/An-Introduction-To-Applied-Bioinformatics/phyl/book/fundamentals/images/spider-tree.png\">\n",
    "    <figcaption>Figure 3: A spider phylogeny. Numbers at internal nodes correspond to the taxonomic groups described in [Table 2 of Garrison et al., 2016](https://peerj.com/articles/1719/#table-1). This image is an unmodified version of [Figure 1](https://doi.org/10.7717/peerj.1719/fig-1), presented by [Garrison et al., 2016](https://peerj.com/articles/1719/).</figcaption>\n",
    "</figure>\n",
    "<p>"
   ]
  },
  {
   "cell_type": "markdown",
   "metadata": {},
   "source": [
    "Earlier work on understanding the relations between the spider lineages focused on comparing traits that entomologists would observe, for example by watching spiders in action or by dissecting them. For example, in 1986 through 1991, [Johnathan Coddington](http://entomology.si.edu/StaffPages/coddington.html) published several studies that tabulated and compared about sixty features of 32 spider taxa (Coddington J. 1986. The monophyletic origin of the orb web. In: Shear W, ed. Spiders: webs, behavior, and evolution. Stanford, California: Stanford University Press. 319-363; Coddington JA. 1991. Cladistics and spider classification: araneomorph phylogeny and the monophyly of orbweavers (Araneae: Araneomorphae; Orbiculariae) Acta Zoologica Fennica 190:75-87). Features included whether a spider wraps its prey when it attacks (a behavioral trait), and how branched the spider's trachea is (a morphological trait). By determining which spiders were more similar and different across these traits, Dr. Coddington provided early evidence for the hypothesis that orb-weaving is an ancient monophyletic trait."
   ]
  },
  {
   "cell_type": "markdown",
   "metadata": {},
   "source": [
    "More recently, several research teams have used features of spider genomes to reconstruct the spider phylogeny ([Bond et al., 2014](http://www.cell.com/current-biology/abstract/S0960-9822(14)00750-7), [Garrison et al., 2016](https://peerj.com/articles/1719/)). Using this approach, the features become the nucleotides observed at particular positions in the genome, which are observed first by sequencing specific genes that the researchers target that are present in all members of the group, and then aligning those sequences with multiple sequence alignment. This has several advantages over feature matrices derived from morphological and behavioral traits, including that many more features can be observed. For example, ([Garrison et al., 2016](https://peerj.com/articles/1719/)), compared approximately 700,000 amino acid positions from nearly 4000 loci around the genomes of 70 spider taxa. Compare the number of features here to the number mentioned in the previous paragraph. These *phylogenomic* studies have further supported the idea that orb-weaving is an ancient monophyletic trait, and have provided much finer scale information on the evolution of spiders. Supported by these data, researchers hypothesize that the loss of orb-weaving might not be that surprising. While it does provide an effective means of catching flying insects, many insects which are potential prey for spiders don't fly. Further, orb webs may attract predators of spiders, and they are easily observable signals of where a spider can be found."
   ]
  },
  {
   "cell_type": "markdown",
   "metadata": {},
   "source": [
    "For the remainder of this chapter, we'll consider methods for phylogenetic reconstruction that use genome sequence data as features."
   ]
  },
  {
   "cell_type": "markdown",
   "metadata": {},
   "source": [
    "## [2.4.3](#3) Simulating evolution<a name='3'></a> <a class='iab-edit' href='https://github.com/gregcaporaso/An-Introduction-to-Applied-Bioinformatics/edit/master/book/fundamentals/phylogeny-reconstruction.md#L36' target='_blank'>[edit]</a>"
   ]
  },
  {
   "cell_type": "markdown",
   "metadata": {},
   "source": [
    "\n",
    "```python\n",
    ">>> # import some functions from python's random module - these will\n",
    "... # be used in the modeling process\n",
    "... from random import choice, randint\n",
    ">>> # import some math functions from the numpy library (note that this\n",
    "... # isn't part of the python standard library)\n",
    "... from numpy import log10, average\n",
    ">>> # import argv from the sys module to support basic command line\n",
    "... # control of this script\n",
    "... from sys import argv\n",
    "...\n",
    ">>> #####\n",
    "... # Start of function definitions\n",
    "... #####\n",
    "...\n",
    "... def count_differences(sequence1,sequence2):\n",
    "...      \"\"\"Count the number of differences between two sequences of the same length\n",
    "...      \"\"\"\n",
    "...      # confirm that the two sequences are the same length and throw\n",
    "...      # an error if they aren't\n",
    "...      assert len(sequence1) == len(sequence2), \"Sequences differ in length\"\n",
    "...      # initiate a counter for the number of differences\n",
    "...      result = 0\n",
    "...      # iterate over the two sequences and count the number of\n",
    "...      # positions which are not identical\n",
    "...      for base1,base2 in zip(sequence1,sequence2):\n",
    "...          if base1 != base2:\n",
    "...              # this is a commonly used shortcut for incrementing a count\n",
    "...              # and is equivalent to the following statement\n",
    "...              # result = result + 1\n",
    "...              result += 1\n",
    "...      return result\n",
    "...\n",
    ">>> def evolve_seq(sequence,\n",
    "...                substitution_probability=0.01,\n",
    "...                mutation_choices=['A','C','G','T']):\n",
    "...     \"\"\"Return two child sequences simulating point mutations\n",
    "...\n",
    "...        An error occurs with probability substitution_probability\n",
    "...         independently at each position of each child sequence.\n",
    "...     \"\"\"\n",
    "...     # Generate two lists for storing the resulting sequences\n",
    "...     r1 = []\n",
    "...     r2 = []\n",
    "...\n",
    "...     range_length = 10 ** (-1 * log10(substitution_probability))\n",
    "...\n",
    "...     for base in sequence:\n",
    "...         if randint(0,range_length) == 0:\n",
    "...             # a point mutation will occur at this position\n",
    "...             # what's wrong with the following statement?\n",
    "...             r1.append(choice(mutation_choices))\n",
    "...         else:\n",
    "...             # no point mutation at this position\n",
    "...             r1.append(base)\n",
    "...         if randint(0,range_length) == 0:\n",
    "...             # a point mutation will occur at this position\n",
    "...             # what's wrong with the following statement?\n",
    "...             r2.append(choice(mutation_choices))\n",
    "...         else:\n",
    "...             # no point mutation at this position\n",
    "...             r2.append(base)\n",
    "...     # convert the lists to strings and return them\n",
    "...     return ''.join(r1), ''.join(r2)\n",
    "...\n",
    ">>> def main(root_sequence,generations,verbose=False):\n",
    "...     # initial some values and perform some basic error checking\n",
    "...     assert generations > 0, \"Must simulate one or more generations.\"\n",
    "...     # can you simplify the following test?\n",
    "...     for base in root_sequence:\n",
    "...         assert base != 'A' or base != 'C' or base != 'G' or base != 'T',\\\n",
    "...          \"Invalid base identified: %s. Only A, C, G, or T are allowed.\" % base\n",
    "...     # initialize a list of the previous generations sequences - this gets used\n",
    "...     # in the for loop below. since we'll start with the first generation of\n",
    "...     # children, root_sequence is the previous generation's sequence\n",
    "...     previous_generation_sequences = [root_sequence]\n",
    "...\n",
    "...     # iterate over each generation (why do we add one to generations?)\n",
    "...     for i in range(1,generations+1):\n",
    "...         # print the generation number and the current number of sequences\n",
    "...         print(\"Generation: %d (Number of child sequences: %d)\" % (i,2**i))\n",
    "...         # create a list to store the current generation of sequences\n",
    "...         current_generation_sequences = []\n",
    "...         # create a list to store the differences in each current generation\n",
    "...         # sequence from the root sequence\n",
    "...         difference_counts = []\n",
    "...         # iterate over the sequences of the previous generation\n",
    "...         for parent_sequence in previous_generation_sequences:\n",
    "...             # evolve two child sequences\n",
    "...             r1, r2 = evolve_seq(parent_sequence)\n",
    "...             # count the differences in the first sequence (from root_sequence)\n",
    "...             r1_diffs = count_differences(root_sequence,r1)\n",
    "...             # append the count of differences to the list of difference counts\n",
    "...             difference_counts.append(r1_diffs)\n",
    "...             # add the new sequence to the list of this generation's sequences\n",
    "...             current_generation_sequences.append(r1)\n",
    "...             # count the differences in the second sequence (from root_sequence)\n",
    "...             r2_diffs = count_differences(root_sequence,r2)\n",
    "...             # append the count of differences to the list of difference counts\n",
    "...             difference_counts.append(r2_diffs)\n",
    "...             # add the new sequence to the list of this generation's sequences\n",
    "...             current_generation_sequences.append(r2)\n",
    "...             if verbose:\n",
    "...                 # if the caller specified verbose output, print the actual sequences\n",
    "...                 print(\"  %s %d\" % (r1, r1_diffs))\n",
    "...                 print(\"  %s %d\" % (r2, r2_diffs))\n",
    "...         # print summary information: the average number of differences in the current\n",
    "...         # generation from root_sequence\n",
    "...         print(\"Mean differences %1.3f\\n\" % average(difference_counts))\n",
    "...         # current_generation_sequences becomes the next generation's\n",
    "...         # previous_generation_sequences\n",
    "...         previous_generation_sequences = current_generation_sequences\n",
    "...\n",
    "...     # upon completion of all generations, return the last generation's sequences\n",
    "...     return previous_generation_sequences\n",
    "...\n",
    ">>> main('ACCGGGGGGAACCCATTTTACACACACACAC', 5)\n",
    "Generation: 1 (Number of child sequences: 2)\n",
    "Mean differences 1.000"
   ]
  },
  {
   "cell_type": "markdown",
   "metadata": {},
   "source": [
    "Generation: 2 (Number of child sequences: 4)\n",
    "Mean differences 1.250"
   ]
  },
  {
   "cell_type": "markdown",
   "metadata": {},
   "source": [
    "Generation: 3 (Number of child sequences: 8)\n",
    "Mean differences 1.500"
   ]
  },
  {
   "cell_type": "markdown",
   "metadata": {},
   "source": [
    "Generation: 4 (Number of child sequences: 16)\n",
    "Mean differences 1.562"
   ]
  },
  {
   "cell_type": "markdown",
   "metadata": {},
   "source": [
    "Generation: 5 (Number of child sequences: 32)\n",
    "Mean differences 1.750\n",
    "['ACCGGGGGGAACCCATTTTACTCACACACAC',\n",
    " 'ACCGGGGGGAACCCATTTTACTCACACACAC',\n",
    " 'ACCGGGGGGAACCCATTTTACTCACACACAC',\n",
    " 'ACCGGGGGGAACCCATTTTACTCACACACAC',\n",
    " 'ACCGGGGGGAACCCATTTTACTCACACACAC',\n",
    " 'GCCGGGGGGAACCCATTTTACTCACACACAC',\n",
    " 'ACCGGGGGGAACCCATTTTACTCACACACAC',\n",
    " 'ACCGGGGGGAACCCATTTTACTCACACACAC',\n",
    " 'ACCGGTGGGAACCCATTTTACTCACACACAC',\n",
    " 'ACCGGTGGGAACCCATTTTACTCACACACAC',\n",
    " 'ACCGGTGGGAACCCAATTTACTCACACACAC',\n",
    " 'ACCGGTGGGAACCCATTTTACTCACACACAC',\n",
    " 'ACCGGGGGGAACCCATTTTACTCACCCACAC',\n",
    " 'ACCGGGGGGAACCCATTTTACTCACACACAC',\n",
    " 'ACCGGGGGGAACCCATTTTACTTACACACAC',\n",
    " 'ACCGGGGGGAACCCATTTTACTTACACACAC',\n",
    " 'ACCGGGGGGTACCCATTTTACCCACACACAC',\n",
    " 'ACCGGGGGGTACCCATTTTACCCACACACAC',\n",
    " 'ACCGGGGGGTACCCATTTTACCCACACACAC',\n",
    " 'ACCGGGGGGTACCCATTTTACCCACACACAC',\n",
    " 'ACCGGGGGGAACCCATTTTACCCACACACAC',\n",
    " 'ACCGGGGGGAACCCATTTTACCCACACACAC',\n",
    " 'ACCGGAGGGAACCCATTTTACCCACACACAC',\n",
    " 'ACCGGGGGGAACCCATTTTACCCACACACAC',\n",
    " 'ACCGGGGGGAACCCATTTTATCCACACACAC',\n",
    " 'ACCGGGGGGAACCCATTTTATCCACACACAC',\n",
    " 'ACCGGGGGGAACCCATTTTATCCACACACAC',\n",
    " 'ACCGGGGGGAACCCATTTTATCCACACACAC',\n",
    " 'ACCGGGGGGAACCCATTTTATCCACACACAC',\n",
    " 'ACCGGGGGGAACCCATTTTATCCACACACAC',\n",
    " 'ACCGAGGGGAACCCATTTTATCCCCACACAC',\n",
    " 'ACCGGGGGGAACCCATTTTATCCACACACAC']\n",
    "```"
   ]
  },
  {
   "cell_type": "markdown",
   "metadata": {},
   "source": [
    "\n",
    "** Pick up here **"
   ]
  },
  {
   "cell_type": "markdown",
   "metadata": {},
   "source": [
    "Old notes:"
   ]
  },
  {
   "cell_type": "markdown",
   "metadata": {},
   "source": [
    "By comparing traits of extant organisms. In our case, traits are columns in a multiple sequence alignment. Many algorithms and tools exist for achieving this, and they vary widely in runtime and quality of results. We're going to begin by learning about one of the oldest and simplest methods for doing this: *Unweighted Pair Group Method with Arithmetic Mean* or UPGMA. (Don't be scared by the name - it's actually fairly simple.)"
   ]
  },
  {
   "cell_type": "markdown",
   "metadata": {},
   "source": [
    "UPGMA is a heirarchical clustering algorithm. It is widely used, though it's application in phylogenetics is usually restricted to building preliminary trees to \"guide\" the process of multiple sequence alignment, as it makes some assumptions that don't work well for inferring relationships between organsims. We're going to start with it here however for a few reasons. First, the underlying math is very basic, so we don't need to assume anything about your background. Second, there are some other applications of UPGMA that we'll explore later, including grouping samples based on their species compositions. In general, my strategy with teaching this material is to start by giving you a basic introdution into how a process works so you can visualize and do it. From there, we can get more complex."
   ]
  },
  {
   "cell_type": "markdown",
   "metadata": {},
   "source": [
    "\n",
    "\n",
    "## [2.4.4](#4) Some terminology<a name='4'></a> <a class='iab-edit' href='https://github.com/gregcaporaso/An-Introduction-to-Applied-Bioinformatics/edit/master/book/fundamentals/phylogeny-reconstruction.md#L214' target='_blank'>[edit]</a>"
   ]
  },
  {
   "cell_type": "markdown",
   "metadata": {},
   "source": [
    "\n",
    "Here's the goal (well, *a* goal, but this is the basic idea):"
   ]
  },
  {
   "cell_type": "markdown",
   "metadata": {},
   "source": [
    "<img src=\"https://raw.githubusercontent.com/gregcaporaso/An-Introduction-To-Applied-Bioinformatics/master/book/fundamentals/images/basic-rooted-tree1.jpg\" width=600>"
   ]
  },
  {
   "cell_type": "markdown",
   "metadata": {},
   "source": [
    "Each *leaf* (or *tip*, or *terminal node*) in this tree represents a sequence, and the length of the horizonal branches between them indicate their dissimilarity to one another. This is a *rooted tree*, which means that it includes an assumption about the last common ancestor of all sequences represented in the tree."
   ]
  },
  {
   "cell_type": "markdown",
   "metadata": {},
   "source": [
    "Note that the vertical lines in this tree are used for layout purposes only - they do not represent dissimilarity between sequences."
   ]
  },
  {
   "cell_type": "markdown",
   "metadata": {},
   "source": [
    "An **unrooted tree**, like the following, doesn't include an assumption about the last common ancestor of all sequences:"
   ]
  },
  {
   "cell_type": "markdown",
   "metadata": {},
   "source": [
    "<img src=\"https://raw.githubusercontent.com/gregcaporaso/An-Introduction-To-Applied-Bioinformatics/master/book/fundamentals/images/basic-unrooted-tree1.jpg\" width=600>"
   ]
  },
  {
   "cell_type": "markdown",
   "metadata": {},
   "source": [
    "**Terminal nodes, tips or leaves** extant organisms, frequently called operational taxonomic units or OTUs. OTUs are families of related organisms."
   ]
  },
  {
   "cell_type": "markdown",
   "metadata": {},
   "source": [
    "**Internal nodes** hypothetical ancestors - we postulate their existence but often don't have direct evidence."
   ]
  },
  {
   "cell_type": "markdown",
   "metadata": {},
   "source": [
    "**Clade** a node and all nodes \"below\" it (i.e., toward the tips)"
   ]
  },
  {
   "cell_type": "markdown",
   "metadata": {},
   "source": [
    "**Root** the internal node defining the clade which contains all nodes in the tree"
   ]
  },
  {
   "cell_type": "markdown",
   "metadata": {},
   "source": [
    "**Branches** representative of the distance between the nodes."
   ]
  },
  {
   "cell_type": "markdown",
   "metadata": {},
   "source": [
    "<img src=\"https://raw.githubusercontent.com/gregcaporaso/An-Introduction-To-Applied-Bioinformatics/master/book/fundamentals/images/tree-schematic1.png\">"
   ]
  },
  {
   "cell_type": "markdown",
   "metadata": {},
   "source": [
    "**Monophyletic group** the last common ancestor was a member of the group (e.g., multicellular organisms)"
   ]
  },
  {
   "cell_type": "markdown",
   "metadata": {},
   "source": [
    "<img src=\"https://raw.githubusercontent.com/gregcaporaso/An-Introduction-To-Applied-Bioinformatics/master/book/fundamentals/images/tree-monophyly.png\">"
   ]
  },
  {
   "cell_type": "markdown",
   "metadata": {},
   "source": [
    "**Polyphyletic group** the last common ancestor was not a member of the group (e.g., flying animals)"
   ]
  },
  {
   "cell_type": "markdown",
   "metadata": {},
   "source": [
    "<img src=\"https://raw.githubusercontent.com/gregcaporaso/An-Introduction-To-Applied-Bioinformatics/master/book/fundamentals/images/tree-polyphyly.png\">"
   ]
  },
  {
   "cell_type": "markdown",
   "metadata": {},
   "source": [
    "We assume that as time progresses, sequences will diverge such that more similar sequences have diverged more recently. The problem of phylogenetic reconstruction however is that we only have the tips. We don't have sequences for the internal nodes, and so we use modern sequences to develop a hypothesis about the evolutionary history of a sequence (and hopefully of the organisms who encode those sequences in their genomes)."
   ]
  },
  {
   "cell_type": "markdown",
   "metadata": {},
   "source": [
    "<img src=\"https://raw.githubusercontent.com/gregcaporaso/An-Introduction-To-Applied-Bioinformatics/master/book/fundamentals/images/sequence-evo-tree.png\">"
   ]
  },
  {
   "cell_type": "markdown",
   "metadata": {},
   "source": [
    "How many (rooted) trees are there for `n` sequences? This topic is discussed in detail in Chapter 3 of [Inferring Phylogenies](http://www.amazon.com/Inferring-Phylogenies-Joseph-Felsenstein/dp/0878931775/ref=sr_1_1?s=books&ie=UTF8&qid=1393288952&sr=1-1&keywords=inferring+phylogenies), the definitive text on this topic, but the basic answer is **a lot**."
   ]
  },
  {
   "cell_type": "markdown",
   "metadata": {},
   "source": [
    "Because of the massive number of possible trees for any reasonable number of sequences, we can't just search all trees to figure out which one best matches our data. Instead, we must take a heurtistic approach to tree building. Some design features of heurtistic methods that are used in practice are that they:"
   ]
  },
  {
   "cell_type": "markdown",
   "metadata": {},
   "source": [
    "1. Look at a subset of the possible trees, and don't guarantee to find the best tree.\n",
    "2. Scale to trees for many OTUs (how well they scale depends on the method, and there is a lot of variability)\n",
    "3. Often provide a single tree, so do not include information on how likely other tree topologies are (we'll talk about methods, such as bootstrapping, to address this)."
   ]
  },
  {
   "cell_type": "markdown",
   "metadata": {},
   "source": [
    "## [2.4.5](#5) Distances and distance matrices<a name='5'></a> <a class='iab-edit' href='https://github.com/gregcaporaso/An-Introduction-to-Applied-Bioinformatics/edit/master/book/fundamentals/phylogeny-reconstruction.md#L260' target='_blank'>[edit]</a>"
   ]
  },
  {
   "cell_type": "markdown",
   "metadata": {},
   "source": [
    "\n",
    "Computing a UPGMA tree for a group of sequences relies on first computing *distances* between each pair of those sequences. A *distance*, in this sense, is a technical term. It's a measure of dissimilarity between two items, `x` and `y`, which meets a few criteria:"
   ]
  },
  {
   "cell_type": "markdown",
   "metadata": {},
   "source": [
    "1. `d(x,y) >= 0` (non-negativity)\n",
    "2. `d(x,y) = 0` [`iff`](http://en.wikipedia.org/wiki/If_and_only_if) `x = y` (identity of indiscernibles)\n",
    "3. `d(x,y) = d(y,x)` (symmetry)\n",
    "4. `d(x,z) <= d(x,y) + d(y,z)` (triangle inequality)"
   ]
  },
  {
   "cell_type": "markdown",
   "metadata": {},
   "source": [
    "Let's start with something more similar than sequences. Let's compute the distances between points in a Cartesian plane, to explore what each of these mean."
   ]
  },
  {
   "cell_type": "code",
   "execution_count": 1,
   "metadata": {},
   "outputs": [],
   "source": [
    "%pylab inline\n",
    "from __future__ import print_function\n",
    "\n",
    "from IPython.core import page\n",
    "import matplotlib.pyplot as plt\n",
    "\n",
    "page.page = print\n",
    "\n",
    "x_vals = [1, 4, 2]\n",
    "y_vals = [3, 3, 6]\n",
    "coordinates = list(zip(x_vals, y_vals))\n",
    "\n",
    "fig, ax = plt.subplots()\n",
    "ax.scatter(x_vals, y_vals)\n",
    "ax.set_xlim(0)\n",
    "ax.set_ylim(0)"
   ]
  },
  {
   "cell_type": "code",
   "execution_count": 2,
   "metadata": {},
   "outputs": [],
   "source": [
    "from scipy.spatial.distance import euclidean\n",
    "%psource euclidean"
   ]
  },
  {
   "cell_type": "markdown",
   "metadata": {},
   "source": [
    "Does Euclidean distance appear to meet the above four requirements of a distance metric?"
   ]
  },
  {
   "cell_type": "markdown",
   "metadata": {},
   "source": [
    "We can now compute the distances between all of these pairs of coordinates, and we can store these in what's known as a *distance matrix*."
   ]
  },
  {
   "cell_type": "code",
   "execution_count": 3,
   "metadata": {},
   "outputs": [],
   "source": [
    "dm = []\n",
    "\n",
    "for c1 in coordinates:\n",
    "    row = []\n",
    "    for c2 in coordinates:\n",
    "        row.append(euclidean(c1, c2))\n",
    "    dm.append(row)\n",
    "\n",
    "print(dm)"
   ]
  },
  {
   "cell_type": "markdown",
   "metadata": {},
   "source": [
    "The [scikit-bio](https://github.com/biocore/scikit-bio) project defines defines a ``DistanceMatrix`` object that we can use to work with this."
   ]
  },
  {
   "cell_type": "code",
   "execution_count": 4,
   "metadata": {},
   "outputs": [],
   "source": [
    "from skbio.stats.distance import DistanceMatrix\n",
    "\n",
    "dm = DistanceMatrix(dm, map(str,range(3)))"
   ]
  },
  {
   "cell_type": "markdown",
   "metadata": {},
   "source": [
    "One feature that this gets us is nicer printing."
   ]
  },
  {
   "cell_type": "code",
   "execution_count": 5,
   "metadata": {},
   "outputs": [],
   "source": [
    "print(dm)"
   ]
  },
  {
   "cell_type": "code",
   "execution_count": 6,
   "metadata": {},
   "outputs": [],
   "source": [
    "dm"
   ]
  },
  {
   "cell_type": "code",
   "execution_count": 7,
   "metadata": {},
   "outputs": [],
   "source": [
    "import scipy.spatial.distance\n",
    "from skbio import DistanceMatrix\n",
    "dm = DistanceMatrix(scipy.spatial.distance.pdist(coordinates, \"euclidean\"))\n",
    "print(dm)"
   ]
  },
  {
   "cell_type": "markdown",
   "metadata": {},
   "source": [
    "The conditions of a distance matrix listed above lead to a few specific features: the distance matrix is symmetric (if you flip the upper triangle over the diagonal, the values are the same as those in the lower triangle), the distance matrix is *hollow* (the diagonal is all zeros), and there are no negative values."
   ]
  },
  {
   "cell_type": "markdown",
   "metadata": {},
   "source": [
    "## [2.4.6](#6) Computing the distance between pairs of sequences.<a name='6'></a> <a class='iab-edit' href='https://github.com/gregcaporaso/An-Introduction-to-Applied-Bioinformatics/edit/master/book/fundamentals/phylogeny-reconstruction.md#L338' target='_blank'>[edit]</a>"
   ]
  },
  {
   "cell_type": "markdown",
   "metadata": {},
   "source": [
    "\n",
    "Most often, distances between pairs of sequences are derived from a multiple sequence alignment. These differ from the pairwise alignments that we've looked at thus far, but use the same underlying algorithms (and we'll be coming back to this in the next chapter)."
   ]
  },
  {
   "cell_type": "markdown",
   "metadata": {},
   "source": [
    "Let's load up some aligned sequences, and compute a distance matrix. For now, we'll compute distances between the sequences using the ``hamming`` function that we worked with in the pairwise alignment chapter."
   ]
  },
  {
   "cell_type": "code",
   "execution_count": 8,
   "metadata": {},
   "outputs": [],
   "source": [
    "from skbio import TabularMSA, DNA\n",
    "import scipy.spatial.distance\n",
    "\n",
    "aln = TabularMSA([DNA('ACCGTGAAGCCAATAC', {'id': 's1'}),\n",
    "                  DNA('A-CGTGCAACCATTAC', {'id': 's2'}),\n",
    "                  DNA('AGCGTGCAGCCAATAC', {'id': 's3'}),\n",
    "                  DNA('AGGGTGCCGC-AATAC', {'id': 's4'}),\n",
    "                  DNA('AGGGTGCCAC-AATAC', {'id': 's5'})])"
   ]
  },
  {
   "cell_type": "code",
   "execution_count": 9,
   "metadata": {},
   "outputs": [],
   "source": [
    "def hamming(seq1, seq2):\n",
    "    return float(scipy.spatial.distance.hamming(seq1.values, seq2.values))\n",
    "\n",
    "master_dm = DistanceMatrix.from_iterable(aln, metric=hamming, key='id')\n",
    "print(master_dm)"
   ]
  },
  {
   "cell_type": "markdown",
   "metadata": {},
   "source": [
    "Once we have these distances, we can cluster the sequences based on their similiaries/dissimilarities. This is the first process that we'll explore for tree building."
   ]
  },
  {
   "cell_type": "markdown",
   "metadata": {},
   "source": [
    "**NOTE:** The example below assumes that each value in this distance matrix is multiplied by the sequence length, so we'll do that here and work work with the resulting distance matrix."
   ]
  },
  {
   "cell_type": "code",
   "execution_count": 10,
   "metadata": {},
   "outputs": [],
   "source": [
    "master_dm = DistanceMatrix(master_dm.data*16, master_dm.ids)\n",
    "print(master_dm)"
   ]
  },
  {
   "cell_type": "markdown",
   "metadata": {},
   "source": [
    "## [2.4.7](#7) Hierarchical clustering with UPGMA<a name='7'></a> <a class='iab-edit' href='https://github.com/gregcaporaso/An-Introduction-to-Applied-Bioinformatics/edit/master/book/fundamentals/phylogeny-reconstruction.md#L372' target='_blank'>[edit]</a>"
   ]
  },
  {
   "cell_type": "markdown",
   "metadata": {},
   "source": [
    "\n",
    "Unweighted Pair-Group Method with Arithmetic mean"
   ]
  },
  {
   "cell_type": "markdown",
   "metadata": {},
   "source": [
    "Unweighted: all tip-to-tip distances contribute equally\n",
    "Pair-group: all branch points lead to exactly two clades\n",
    "Arithmetic mean: distances to each clade are the mean of distances to all members of that clade"
   ]
  },
  {
   "cell_type": "markdown",
   "metadata": {},
   "source": [
    "Steps\n",
    "-----"
   ]
  },
  {
   "cell_type": "markdown",
   "metadata": {},
   "source": [
    "1. Identify the smallest distance in the matrix and define a clade containing only those members. Draw that clade, and set the *total* branch length to the distance between the tips.\n",
    "2. Create a new distance matrix with an entry representing the clade created in step 1.\n",
    "3. Calculate the distance matrix entries for the clade as the mean distance from each of the tips of the new clade to all other tips in the distance matrix.\n",
    "4. If there is only one distance (below or above the diagonal) in the distance matrix, use it to connect the remaing clades, and stop. Otherwise repeat step 1."
   ]
  },
  {
   "cell_type": "markdown",
   "metadata": {},
   "source": [
    "Let's start, working from the above distance matrix."
   ]
  },
  {
   "cell_type": "markdown",
   "metadata": {},
   "source": [
    "Iteration 1\n",
    "------------"
   ]
  },
  {
   "cell_type": "markdown",
   "metadata": {},
   "source": [
    "Step 1.1: The smallest distance in the above matrix is `1.00`, between `s4` and `s5`. So, we'll draw that clade and set each branch length to `0.5`."
   ]
  },
  {
   "cell_type": "markdown",
   "metadata": {},
   "source": [
    "Step 1.2: Next, we'll create a new, smaller distance matrix where the sequences `s4` and `s5` are now represented by a single clade, `(s4, s5)`."
   ]
  },
  {
   "cell_type": "markdown",
   "metadata": {},
   "source": [
    "<img src=\"https://raw.githubusercontent.com/gregcaporaso/An-Introduction-To-Applied-Bioinformatics/master/book/fundamentals/images/upgma-tree-iter1.png\">"
   ]
  },
  {
   "cell_type": "code",
   "execution_count": 11,
   "metadata": {},
   "outputs": [],
   "source": [
    "iter1_ids = ['s1', 's2', 's3', '(s4, s5)']\n",
    "iter1_dm = [[0.0,   4.0,  2.0, None],\n",
    "            [4.0,   0.0,  3.0, None],\n",
    "            [2.0,   3.0,  0.0, None],\n",
    "            [None, None, None, None]]"
   ]
  },
  {
   "cell_type": "markdown",
   "metadata": {},
   "source": [
    "Step 1.3: We'll now fill in the values from the new clade to each of the existing sequences (or clades). The distance will be the mean between each pre-existing clade, and each of the sequences in the new clade. For example, the distance between `s1` and `(s4, s5)` is the mean of the distance between `s1` and `s4` and `s1` and `s5`:"
   ]
  },
  {
   "cell_type": "code",
   "execution_count": 12,
   "metadata": {},
   "outputs": [],
   "source": [
    "import numpy as np\n",
    "\n",
    "np.mean([master_dm[0][3], master_dm[0][4]])"
   ]
  },
  {
   "cell_type": "markdown",
   "metadata": {},
   "source": [
    "Step 1.3 (continued): Similarly, the distance between `s2` and `(s4, s5)` is the mean of the distance between `s2` and `s4` and `s2` and `s5`:"
   ]
  },
  {
   "cell_type": "code",
   "execution_count": 13,
   "metadata": {},
   "outputs": [],
   "source": [
    "np.mean([master_dm[1][3], master_dm[1][4]])"
   ]
  },
  {
   "cell_type": "markdown",
   "metadata": {},
   "source": [
    "Step 1.3 (continued): And finally, the distance between `s3` and `(s4, s5)` is the mean of the distance between `s3` and `s4` and the distance between `s3` and `s5`:"
   ]
  },
  {
   "cell_type": "code",
   "execution_count": 14,
   "metadata": {},
   "outputs": [],
   "source": [
    "np.mean([master_dm[2][3], master_dm[2][4]])"
   ]
  },
  {
   "cell_type": "markdown",
   "metadata": {},
   "source": [
    "Step 1.3 (continued): If we fill these values in (note that they will be the same above and below the diagonal) the post-iteration 1 distance matrix looks like the following:"
   ]
  },
  {
   "cell_type": "code",
   "execution_count": 15,
   "metadata": {},
   "outputs": [],
   "source": [
    "iter1_dm = [[0.0, 4.0, 2.0, 5.5],\n",
    "      [4.0, 0.0, 3.0, 5.5],\n",
    "      [2.0, 3.0, 0.0, 3.5],\n",
    "      [5.5, 5.5, 3.5, 0.0]]\n",
    "\n",
    "iter1_dm = DistanceMatrix(iter1_dm, iter1_ids)\n",
    "print(iter1_dm)"
   ]
  },
  {
   "cell_type": "markdown",
   "metadata": {},
   "source": [
    "Step 1.4: There is still more than one value below the diagonal, so we start a new iteration."
   ]
  },
  {
   "cell_type": "markdown",
   "metadata": {},
   "source": [
    "Iteration 2\n",
    "------------"
   ]
  },
  {
   "cell_type": "markdown",
   "metadata": {},
   "source": [
    "Step 2.1: The smallest distance in the above matrix is `2.00`, between `s1` and `s3`. So, we'll draw that clade and set each branch length to `1.0`."
   ]
  },
  {
   "cell_type": "markdown",
   "metadata": {},
   "source": [
    "Step 2.2: Next, we'll create a new, smaller distance matrix where the sequences `s1` and `s3` are now represented by a single clade, `(s1, s3)`."
   ]
  },
  {
   "cell_type": "markdown",
   "metadata": {},
   "source": [
    "<img src=\"https://raw.githubusercontent.com/gregcaporaso/An-Introduction-To-Applied-Bioinformatics/master/book/fundamentals/images/upgma-tree-iter2.png\">"
   ]
  },
  {
   "cell_type": "code",
   "execution_count": 16,
   "metadata": {},
   "outputs": [],
   "source": [
    "iter2_ids = ['(s1, s3)', 's2', '(s4, s5)']\n",
    "\n",
    "iter2_dm = [[None, None, None],\n",
    "      [None,  0.0, 5.5],\n",
    "      [None,  5.5, 0.0]]"
   ]
  },
  {
   "cell_type": "markdown",
   "metadata": {},
   "source": [
    "Step 2.3: We'll now fill in the values from the new clade to each of the existing sequences (or clades). The distance will be the mean between each pre-existing clade, and each of the sequences in the new clade. For example, the distance between `s2` and `(s1, s3)` is the mean of the distance between `s2` and `s1` and `s2` and `s3`:"
   ]
  },
  {
   "cell_type": "code",
   "execution_count": 17,
   "metadata": {},
   "outputs": [],
   "source": [
    "np.mean([master_dm[1][0], master_dm[1][2]])"
   ]
  },
  {
   "cell_type": "markdown",
   "metadata": {},
   "source": [
    "Step 2.3 (continued): Next, we need to find the distance between `(s1, s3)` and `(s4, s5)`. This is computed as the mean of the distance between `s1` and `s4`, the distance between `s1` and `s5`, the distance between `s3` and `s4`, and the distance between `s3` and `s5`. Note that we are going back to our master distance matrix here for these distances, **not** our iteration 1 distance matrix."
   ]
  },
  {
   "cell_type": "code",
   "execution_count": 18,
   "metadata": {},
   "outputs": [],
   "source": [
    "np.mean([master_dm[0][3], master_dm[0][4], master_dm[2][3], master_dm[2][4]])"
   ]
  },
  {
   "cell_type": "markdown",
   "metadata": {},
   "source": [
    "Step 2.3 (continued): We can now fill in all of the distances in our iteration 2 distance matrix."
   ]
  },
  {
   "cell_type": "code",
   "execution_count": 19,
   "metadata": {},
   "outputs": [],
   "source": [
    "iter2_dm = [[0.0, 3.5, 4.5],\n",
    "            [3.5, 0.0, 5.5],\n",
    "            [4.5, 5.5, 0.0]]\n",
    "\n",
    "iter2_dm = DistanceMatrix(iter2_dm, iter2_ids)\n",
    "print(iter2_dm)"
   ]
  },
  {
   "cell_type": "markdown",
   "metadata": {},
   "source": [
    "Step 2.4: There is still more than one value below the diagonal, so we start a new iteration."
   ]
  },
  {
   "cell_type": "markdown",
   "metadata": {},
   "source": [
    "Iteration 3\n",
    "------------"
   ]
  },
  {
   "cell_type": "markdown",
   "metadata": {},
   "source": [
    "Step 3.1: The smallest distance in the above matrix is `3.50`, between `(s1, s3)` and `s2`. So, we'll draw that clade and set each branch length to `1.75`."
   ]
  },
  {
   "cell_type": "markdown",
   "metadata": {},
   "source": [
    "Step 3.2: Next, we'll create a new, smaller distance matrix where the clade `(s1, s3)` and the sequence `s2` are now represented by a single clade, `((s1, s3), s2)`."
   ]
  },
  {
   "cell_type": "markdown",
   "metadata": {},
   "source": [
    "<img src=\"https://raw.githubusercontent.com/gregcaporaso/An-Introduction-To-Applied-Bioinformatics/master/book/fundamentals/images/upgma-tree-iter3.png\">"
   ]
  },
  {
   "cell_type": "code",
   "execution_count": 20,
   "metadata": {},
   "outputs": [],
   "source": [
    "iter3_ids = ['((s1, s3), s2)', '(s4, s5)']\n",
    "\n",
    "iter3_dm = [[None, None],\n",
    "            [None,  0.0]]"
   ]
  },
  {
   "cell_type": "markdown",
   "metadata": {},
   "source": [
    "Step 3.3: We'll now fill in the values from the new clade to each of the existing sequences (or clades). This is computed as the mean of the distance between `s1` and `s4`, the distance between `s1` and `s5`, the distance between `s3` and `s4`, the distance between `s3` and `s5`, the distance between `s2` and `s4`, and the distance between `s2` and `s5`. Again, note that we are going back to our master distance matrix here for these distances, **not** our iteration 1 or iteration 2 distance matrix."
   ]
  },
  {
   "cell_type": "code",
   "execution_count": 21,
   "metadata": {},
   "outputs": [],
   "source": [
    "np.mean([master_dm[0][3], master_dm[0][4], master_dm[2][3], master_dm[2][4], master_dm[1][3], master_dm[1][4]])"
   ]
  },
  {
   "cell_type": "markdown",
   "metadata": {},
   "source": [
    "Step 3.3 (continued): We can now fill in all of the distances in our iteration 3 distance matrix."
   ]
  },
  {
   "cell_type": "code",
   "execution_count": 22,
   "metadata": {},
   "outputs": [],
   "source": [
    "iter3_dm = [[0.0, 4.8],\n",
    "            [4.8, 0.0]]\n",
    "\n",
    "iter3_dm = DistanceMatrix(iter3_dm, iter3_ids)\n",
    "print(iter3_dm)"
   ]
  },
  {
   "cell_type": "markdown",
   "metadata": {},
   "source": [
    "Step 3.4: At this stage, there is only one distance below the diagonal in our distance matrix. So, we can use that distance to draw the final branch in our tree, setting the total branch length to 4.8."
   ]
  },
  {
   "cell_type": "markdown",
   "metadata": {},
   "source": [
    "<img src=\"https://raw.githubusercontent.com/gregcaporaso/An-Introduction-To-Applied-Bioinformatics/master/book/fundamentals/images/upgma-tree-final.png\">"
   ]
  },
  {
   "cell_type": "markdown",
   "metadata": {},
   "source": [
    "[SciPy](http://www.scipy.org/) contains support for running UPGMA and generating *dendrograms* (or basic tree visualizations). We can apply this to our distance matrix as follows. You can explore other options for hierarchical clustering in SciPy [here](http://docs.scipy.org/doc/scipy/reference/cluster.hierarchy.html) (see the *routines for agglomerative clustering*)."
   ]
  },
  {
   "cell_type": "code",
   "execution_count": 23,
   "metadata": {},
   "outputs": [],
   "source": [
    "# scipy.cluster.hierarchy.average is an implementation of UPGMA\n",
    "from scipy.cluster.hierarchy import average, dendrogram\n",
    "lm = average(master_dm.condensed_form())\n",
    "d = dendrogram(lm, labels=master_dm.ids, orientation='right',\n",
    "               link_color_func=lambda x: 'black')"
   ]
  },
  {
   "cell_type": "markdown",
   "metadata": {},
   "source": [
    "## [2.4.8](#8) Acknowledgements<a name='8'></a> <a class='iab-edit' href='https://github.com/gregcaporaso/An-Introduction-to-Applied-Bioinformatics/edit/master/book/fundamentals/phylogeny-reconstruction.md#L529' target='_blank'>[edit]</a>"
   ]
  },
  {
   "cell_type": "markdown",
   "metadata": {},
   "source": [
    "\n",
    "The material in this section was compiled while consulting the following sources:"
   ]
  },
  {
   "cell_type": "markdown",
   "metadata": {},
   "source": [
    "1. The Phylogenetic Handbook (Lemey, Salemi, Vandamme)\n",
    "2. Inferring Phylogeny (Felsenstein)\n",
    "3. [Richard Edwards's teaching website](http://www.southampton.ac.uk/~re1u06/teaching/upgma/)"
   ]
  }
 ],
 "metadata": {},
 "nbformat": 4,
 "nbformat_minor": 0
}
